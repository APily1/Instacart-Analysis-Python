{
 "cells": [
  {
   "cell_type": "markdown",
   "id": "6fe8c37b",
   "metadata": {},
   "source": [
    "# 01. Importing libraries"
   ]
  },
  {
   "cell_type": "code",
   "execution_count": 31,
   "id": "c8dc6000",
   "metadata": {},
   "outputs": [],
   "source": [
    "# Import Libraries\n",
    "import pandas as pd\n",
    "import numpy as np\n",
    "import os"
   ]
  },
  {
   "cell_type": "markdown",
   "id": "c1ce6f07",
   "metadata": {},
   "source": [
    "## 02. Data types"
   ]
  },
  {
   "cell_type": "code",
   "execution_count": 39,
   "id": "fae1e74f",
   "metadata": {},
   "outputs": [],
   "source": [
    "a = 25"
   ]
  },
  {
   "cell_type": "code",
   "execution_count": 40,
   "id": "91af7a01",
   "metadata": {},
   "outputs": [],
   "source": [
    "b = 75"
   ]
  },
  {
   "cell_type": "code",
   "execution_count": 41,
   "id": "aedf034d",
   "metadata": {},
   "outputs": [],
   "source": [
    "c = 50"
   ]
  },
  {
   "cell_type": "code",
   "execution_count": 42,
   "id": "13a90615",
   "metadata": {
    "scrolled": true
   },
   "outputs": [
    {
     "data": {
      "text/plain": [
       "100"
      ]
     },
     "execution_count": 42,
     "metadata": {},
     "output_type": "execute_result"
    }
   ],
   "source": [
    "a + b"
   ]
  },
  {
   "cell_type": "code",
   "execution_count": 43,
   "id": "f8b2d695",
   "metadata": {},
   "outputs": [
    {
     "data": {
      "text/plain": [
       "100"
      ]
     },
     "execution_count": 43,
     "metadata": {},
     "output_type": "execute_result"
    }
   ],
   "source": [
    "c + c"
   ]
  },
  {
   "cell_type": "code",
   "execution_count": 44,
   "id": "18f1f11c",
   "metadata": {},
   "outputs": [
    {
     "data": {
      "text/plain": [
       "100"
      ]
     },
     "execution_count": 44,
     "metadata": {},
     "output_type": "execute_result"
    }
   ],
   "source": [
    "a + a + c"
   ]
  },
  {
   "cell_type": "code",
   "execution_count": 45,
   "id": "d7f3889d",
   "metadata": {},
   "outputs": [],
   "source": [
    "x = 3.14"
   ]
  },
  {
   "cell_type": "code",
   "execution_count": 46,
   "id": "b7b95337",
   "metadata": {},
   "outputs": [],
   "source": [
    "y = 9.99"
   ]
  },
  {
   "cell_type": "code",
   "execution_count": 47,
   "id": "327f97d1",
   "metadata": {},
   "outputs": [
    {
     "data": {
      "text/plain": [
       "0.31431431431431434"
      ]
     },
     "execution_count": 47,
     "metadata": {},
     "output_type": "execute_result"
    }
   ],
   "source": [
    "x / y"
   ]
  },
  {
   "cell_type": "code",
   "execution_count": 48,
   "id": "35b5e37c",
   "metadata": {},
   "outputs": [],
   "source": [
    "d =  'The '"
   ]
  },
  {
   "cell_type": "code",
   "execution_count": 49,
   "id": "3874ed9e",
   "metadata": {},
   "outputs": [],
   "source": [
    "e = 'cat '"
   ]
  },
  {
   "cell_type": "code",
   "execution_count": 50,
   "id": "46088d18",
   "metadata": {},
   "outputs": [],
   "source": [
    "f = 'was '"
   ]
  },
  {
   "cell_type": "code",
   "execution_count": 51,
   "id": "f73c7b23",
   "metadata": {},
   "outputs": [],
   "source": [
    "g = 'furious.'"
   ]
  },
  {
   "cell_type": "code",
   "execution_count": 53,
   "id": "f2e009b3",
   "metadata": {},
   "outputs": [],
   "source": [
    "h = 'The '"
   ]
  },
  {
   "cell_type": "code",
   "execution_count": 54,
   "id": "a73bffef",
   "metadata": {},
   "outputs": [],
   "source": [
    "i = 'dog '"
   ]
  },
  {
   "cell_type": "code",
   "execution_count": 55,
   "id": "5d9f124b",
   "metadata": {},
   "outputs": [],
   "source": [
    "j = 'was '"
   ]
  },
  {
   "cell_type": "code",
   "execution_count": 56,
   "id": "5f4075eb",
   "metadata": {},
   "outputs": [],
   "source": [
    "k = 'calm.'"
   ]
  },
  {
   "cell_type": "code",
   "execution_count": 58,
   "id": "d27d0cf2",
   "metadata": {},
   "outputs": [
    {
     "data": {
      "text/plain": [
       "'The cat was furious.The dog was calm.'"
      ]
     },
     "execution_count": 58,
     "metadata": {},
     "output_type": "execute_result"
    }
   ],
   "source": [
    "d + e + f + g + h + i + j + k "
   ]
  },
  {
   "cell_type": "code",
   "execution_count": null,
   "id": "b1385966",
   "metadata": {},
   "outputs": [],
   "source": []
  }
 ],
 "metadata": {
  "kernelspec": {
   "display_name": "Python 3 (ipykernel)",
   "language": "python",
   "name": "python3"
  },
  "language_info": {
   "codemirror_mode": {
    "name": "ipython",
    "version": 3
   },
   "file_extension": ".py",
   "mimetype": "text/x-python",
   "name": "python",
   "nbconvert_exporter": "python",
   "pygments_lexer": "ipython3",
   "version": "3.11.3"
  }
 },
 "nbformat": 4,
 "nbformat_minor": 5
}
